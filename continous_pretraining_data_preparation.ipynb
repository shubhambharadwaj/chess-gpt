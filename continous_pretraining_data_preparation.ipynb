{
 "cells": [
  {
   "cell_type": "markdown",
   "metadata": {
    "application/vnd.databricks.v1+cell": {
     "cellMetadata": {},
     "inputWidgets": {},
     "nuid": "c672bd60-ca0c-4fe8-898e-8e32b8789333",
     "showTitle": false,
     "tableResultSettingsMap": {},
     "title": ""
    }
   },
   "source": [
    "### Install Libraries and Define constants and helper functions"
   ]
  },
  {
   "cell_type": "code",
   "execution_count": 0,
   "metadata": {
    "application/vnd.databricks.v1+cell": {
     "cellMetadata": {
      "byteLimit": 2048000,
      "rowLimit": 10000
     },
     "inputWidgets": {},
     "nuid": "4e45ebf7-506c-4267-9b65-e39e3911a9d6",
     "showTitle": false,
     "tableResultSettingsMap": {},
     "title": ""
    }
   },
   "outputs": [],
   "source": [
    "%pip install zstandard python-chess tqdm"
   ]
  },
  {
   "cell_type": "code",
   "execution_count": 0,
   "metadata": {
    "application/vnd.databricks.v1+cell": {
     "cellMetadata": {
      "byteLimit": 2048000,
      "rowLimit": 10000
     },
     "inputWidgets": {},
     "nuid": "52cade61-161f-4332-ab26-517a63db8a9f",
     "showTitle": false,
     "tableResultSettingsMap": {},
     "title": ""
    }
   },
   "outputs": [],
   "source": [
    "dbutils.library.restartPython()"
   ]
  },
  {
   "cell_type": "code",
   "execution_count": 0,
   "metadata": {
    "application/vnd.databricks.v1+cell": {
     "cellMetadata": {
      "byteLimit": 2048000,
      "rowLimit": 10000
     },
     "inputWidgets": {},
     "nuid": "4909e00b-6f7e-48d1-aefa-72a316d33e42",
     "showTitle": false,
     "tableResultSettingsMap": {},
     "title": ""
    }
   },
   "outputs": [],
   "source": [
    "import io\n",
    "import os\n",
    "import json\n",
    "import copy\n",
    "import chess\n",
    "import pickle\n",
    "import random\n",
    "import shutil\n",
    "import chess.pgn\n",
    "import pandas as pd\n",
    "from tqdm import tqdm\n",
    "import zstandard as zstd\n",
    "PARENT_CHESS_GPT = '/Volumes/unitygo/lichess/engine/chessgpt'\n",
    "CHESS_GPT_SFT = '/Volumes/unitygo/lichess/engine/chessgpt/chessgpt_sft_data/'\n",
    "CHESS_GPT = '/Volumes/unitygo/lichess/engine/chessgpt/chessgpt_data/'\n",
    "TRANSCRIPTION_FOLDER = \"/Volumes/unitygo/lichess/engine/shubham_chessdata/transcriptions\"\n",
    "CONTINOUS_PRETRAIN_FOLDER = \"/Volumes/unitygo/lichess/engine/shubham_chessdata/continous_pretrain_folder\"\n",
    "if os.listdir(CONTINOUS_PRETRAIN_FOLDER):\n",
    "    pass\n",
    "else:\n",
    "    shutil.copytree(TRANSCRIPTION_FOLDER, CONTINOUS_PRETRAIN_FOLDER)"
   ]
  },
  {
   "cell_type": "code",
   "execution_count": 0,
   "metadata": {
    "application/vnd.databricks.v1+cell": {
     "cellMetadata": {
      "byteLimit": 2048000,
      "rowLimit": 10000
     },
     "inputWidgets": {},
     "nuid": "c2b77b07-3264-4d6f-9aa6-5255cae9700d",
     "showTitle": false,
     "tableResultSettingsMap": {},
     "title": ""
    }
   },
   "outputs": [],
   "source": [
    "files_in_chess_gpt = []\n",
    "\n",
    "files_dict = {}\n",
    "for folder in os.listdir(CHESS_GPT):\n",
    "    tmp_folder_list = []\n",
    "    for file in os.listdir(CHESS_GPT+folder):\n",
    "        if file:\n",
    "            tmp_folder_list.append(f\"{CHESS_GPT}{folder}/{file}\")\n",
    "    files_dict[folder] = tmp_folder_list\n",
    "print(files_dict)\n",
    "\n",
    "files_in_chess_gpt_sft = []\n",
    "files_in_chess_gpt_sft_zst = []\n",
    "all_files = os.listdir(CHESS_GPT_SFT)\n",
    "\n",
    "for file in all_files:\n",
    "    if '.zst' in file:\n",
    "        files_in_chess_gpt_sft_zst.append(CHESS_GPT_SFT+file)\n",
    "\n",
    "for zst_file_path in files_in_chess_gpt_sft_zst:\n",
    "    op_file = zst_file_path.split(\"/\")[-1].split(\".\")[0] + '.jsonl'\n",
    "    output_file_path = CHESS_GPT_SFT+f'{op_file}'\n",
    "    files_in_chess_gpt_sft.append(output_file_path)\n",
    "    if op_file in all_files:\n",
    "        print('File already saved')\n",
    "        continue\n",
    "    else:\n",
    "        with open(zst_file_path, 'rb') as compressed_file:\n",
    "            decompressor = zstd.ZstdDecompressor()\n",
    "            decompressed_data = decompressor.decompress(compressed_file.read())\n",
    "        with open(output_file_path, 'wb') as output_file:\n",
    "            output_file.write(decompressed_data)\n",
    "print(files_in_chess_gpt_sft)"
   ]
  },
  {
   "cell_type": "code",
   "execution_count": 0,
   "metadata": {
    "application/vnd.databricks.v1+cell": {
     "cellMetadata": {
      "byteLimit": 2048000,
      "rowLimit": 10000
     },
     "inputWidgets": {},
     "nuid": "1802b17b-a6e5-488e-bb55-513b7e341208",
     "showTitle": false,
     "tableResultSettingsMap": {},
     "title": ""
    }
   },
   "outputs": [],
   "source": [
    "all_files = []\n",
    "for files in files_dict.values():\n",
    "    all_files += files\n",
    "all_files += files_in_chess_gpt_sft"
   ]
  },
  {
   "cell_type": "code",
   "execution_count": 0,
   "metadata": {
    "application/vnd.databricks.v1+cell": {
     "cellMetadata": {},
     "inputWidgets": {},
     "nuid": "0cdcdaeb-321b-4faf-a65f-516afe2c4153",
     "showTitle": false,
     "tableResultSettingsMap": {},
     "title": ""
    }
   },
   "outputs": [],
   "source": [
    "\n",
    "    else:\n"
   ]
  },
  {
   "cell_type": "code",
   "execution_count": 0,
   "metadata": {
    "application/vnd.databricks.v1+cell": {
     "cellMetadata": {
      "byteLimit": 2048000,
      "rowLimit": 10000
     },
     "inputWidgets": {},
     "nuid": "2a45b8a9-556f-47a8-b619-d389008de3b4",
     "showTitle": false,
     "tableResultSettingsMap": {},
     "title": ""
    }
   },
   "outputs": [],
   "source": [
    "data_list = []\n",
    "failed = []\n",
    "counter = 0\n",
    "for file in tqdm(all_files):\n",
    "    data_list_tmp = []\n",
    "    with open(file, \"r\", encoding=\"utf-8\") as f:\n",
    "        for line in f:\n",
    "            try:\n",
    "                data_json = json.loads(line)\n",
    "                if data_json.get('text'):\n",
    "                    if dict_exists.get(f'train_file_{counter}.txt'):\n",
    "                        counter += 1\n",
    "                        continue\n",
    "                    else:\n",
    "                        with open(f'{CONTINOUS_PRETRAIN_FOLDER}/train_file_{counter}.txt', \"w\", encoding=\"utf-8\") as txt_file:\n",
    "                            txt_file.write(data)\n",
    "                        counter += 1\n",
    "            except:\n",
    "                failed.append(line)\n",
    "    data_list += data_list_tmp\n",
    "len(data_list)"
   ]
  },
  {
   "cell_type": "code",
   "execution_count": 0,
   "metadata": {
    "application/vnd.databricks.v1+cell": {
     "cellMetadata": {
      "byteLimit": 2048000,
      "rowLimit": 10000
     },
     "inputWidgets": {},
     "nuid": "1cc02800-5477-462b-804b-e2cb8651fa41",
     "showTitle": false,
     "tableResultSettingsMap": {},
     "title": ""
    }
   },
   "outputs": [],
   "source": [
    "dict_exists = {y:x for x,y in enumerate(os.listdir(CONTINOUS_PRETRAIN_FOLDER))}\n",
    "dict_exists"
   ]
  },
  {
   "cell_type": "code",
   "execution_count": 0,
   "metadata": {
    "application/vnd.databricks.v1+cell": {
     "cellMetadata": {
      "byteLimit": 2048000,
      "rowLimit": 10000
     },
     "inputWidgets": {},
     "nuid": "8fe5f022-29f2-4901-bd0a-740b45156980",
     "showTitle": false,
     "tableResultSettingsMap": {},
     "title": ""
    }
   },
   "outputs": [],
   "source": [
    "\n",
    "for data in data_list:\n",
    "\n",
    "        counter += 1"
   ]
  },
  {
   "cell_type": "code",
   "execution_count": 0,
   "metadata": {
    "application/vnd.databricks.v1+cell": {
     "cellMetadata": {},
     "inputWidgets": {},
     "nuid": "93b3d919-4b24-45f3-97aa-a3d1aa9c164b",
     "showTitle": false,
     "tableResultSettingsMap": {},
     "title": ""
    }
   },
   "outputs": [],
   "source": []
  }
 ],
 "metadata": {
  "application/vnd.databricks.v1+notebook": {
   "computePreferences": null,
   "dashboards": [],
   "environmentMetadata": {
    "base_environment": "",
    "environment_version": "2"
   },
   "inputWidgetPreferences": null,
   "language": "python",
   "notebookMetadata": {
    "pythonIndentUnit": 4
   },
   "notebookName": "continous_pretraining_data_preparation",
   "widgets": {}
  },
  "language_info": {
   "name": "python"
  }
 },
 "nbformat": 4,
 "nbformat_minor": 0
}
